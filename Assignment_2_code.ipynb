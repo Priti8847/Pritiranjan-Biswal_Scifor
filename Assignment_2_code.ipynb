{
  "nbformat": 4,
  "nbformat_minor": 0,
  "metadata": {
    "colab": {
      "provenance": []
    },
    "kernelspec": {
      "name": "python3",
      "display_name": "Python 3"
    },
    "language_info": {
      "name": "python"
    }
  },
  "cells": [
    {
      "cell_type": "code",
      "execution_count": null,
      "metadata": {
        "id": "3w1MJncHLcCg",
        "outputId": "b5affb23-52ae-44bb-cf6e-c971d8accd35",
        "colab": {
          "base_uri": "https://localhost:8080/"
        }
      },
      "outputs": [
        {
          "output_type": "stream",
          "name": "stdout",
          "text": [
            "1\n",
            "2\n",
            "3\n",
            "4\n",
            "5\n"
          ]
        }
      ],
      "source": [
        "my_list = [1, 2, 3, 4, 5]\n",
        "for item in my_list:\n",
        "    print(item)\n"
      ]
    },
    {
      "cell_type": "code",
      "source": [
        "list = [1, 3, 5, 7, 9]\n",
        "i = 0\n",
        "# Iterating using while loop\n",
        "while i < len(list):\n",
        "    print(list[i])\n",
        "    i += 1"
      ],
      "metadata": {
        "colab": {
          "base_uri": "https://localhost:8080/"
        },
        "id": "N_zb4YEtMRJI",
        "outputId": "06a51bdb-76be-4b65-915b-dc2c1394dfd5"
      },
      "execution_count": 6,
      "outputs": [
        {
          "output_type": "stream",
          "name": "stdout",
          "text": [
            "1\n",
            "3\n",
            "5\n",
            "7\n",
            "9\n"
          ]
        }
      ]
    },
    {
      "cell_type": "code",
      "source": [
        "\n",
        "\n",
        "# Python3 code to iterate over a list\n",
        "list = [1, 3, 5, 7, 9]\n",
        "\n",
        "# Using list comprehension\n",
        "[print(i) for i in list]"
      ],
      "metadata": {
        "colab": {
          "base_uri": "https://localhost:8080/"
        },
        "id": "8z7GwTPNNEcI",
        "outputId": "9f00e735-17da-48bc-8ce3-c9169ff0f8b3"
      },
      "execution_count": 7,
      "outputs": [
        {
          "output_type": "stream",
          "name": "stdout",
          "text": [
            "1\n",
            "3\n",
            "5\n",
            "7\n",
            "9\n"
          ]
        },
        {
          "output_type": "execute_result",
          "data": {
            "text/plain": [
              "[None, None, None, None, None]"
            ]
          },
          "metadata": {},
          "execution_count": 7
        }
      ]
    },
    {
      "cell_type": "code",
      "source": [
        "##Exception handeling\n",
        "try:\n",
        "    result = 10 / 0\n",
        "except Exception as e:\n",
        "    print(e,type(e))\n",
        "else:\n",
        "    print(\"No exception occurred.\")\n",
        "finally:\n",
        "    print(\"This block always runs.\")\n"
      ],
      "metadata": {
        "colab": {
          "base_uri": "https://localhost:8080/"
        },
        "id": "2dAfBm8OPdHd",
        "outputId": "06345ac1-c7b5-43d8-c47e-dd88ee7cd504"
      },
      "execution_count": 8,
      "outputs": [
        {
          "output_type": "stream",
          "name": "stdout",
          "text": [
            "division by zero <class 'ZeroDivisionError'>\n",
            "This block always runs.\n"
          ]
        }
      ]
    },
    {
      "cell_type": "code",
      "source": [
        "## List comprehension\n",
        "num=[1,2,3,4,5,6]\n",
        "square_num=[i**2 for i in num]\n",
        "print(square_num)"
      ],
      "metadata": {
        "colab": {
          "base_uri": "https://localhost:8080/"
        },
        "id": "DWzTRWxEQiL8",
        "outputId": "182df291-c81e-40eb-f683-fc35c3084b0a"
      },
      "execution_count": 9,
      "outputs": [
        {
          "output_type": "stream",
          "name": "stdout",
          "text": [
            "[1, 4, 9, 16, 25, 36]\n"
          ]
        }
      ]
    },
    {
      "cell_type": "code",
      "source": [
        "##if conditionin list comprehension\n",
        "num=[1,2,3,4,5,6,8,9,10,12]\n",
        "even_num=[i for i in num if i%2==0]\n",
        "print(even_num)"
      ],
      "metadata": {
        "colab": {
          "base_uri": "https://localhost:8080/"
        },
        "id": "yqSH-qlGZmRZ",
        "outputId": "7d5bc97f-d6ba-4b80-808b-fda45ed0fd6b"
      },
      "execution_count": 11,
      "outputs": [
        {
          "output_type": "stream",
          "name": "stdout",
          "text": [
            "[2, 4, 6, 8, 10, 12]\n"
          ]
        }
      ]
    },
    {
      "cell_type": "code",
      "source": [
        "#flatenning of list  here we use 2 for loop to iterate this\n",
        "list=[[1,2,3],[4,5,6],[7,8,9]]\n",
        "flatten_list=[item for sublist in list for item in sublist]\n",
        "print(flatten_list)"
      ],
      "metadata": {
        "colab": {
          "base_uri": "https://localhost:8080/"
        },
        "id": "e6qjjiGAaqrr",
        "outputId": "698acbfe-1269-4b18-9393-ada1ae742286"
      },
      "execution_count": 14,
      "outputs": [
        {
          "output_type": "stream",
          "name": "stdout",
          "text": [
            "[1, 2, 3, 4, 5, 6, 7, 8, 9]\n"
          ]
        }
      ]
    },
    {
      "cell_type": "code",
      "source": [
        "## Generating a list of the Fibonacci sequence using a list comprehension\n",
        "fib = [0, 1, 1, 2, 3, 5, 8, 13, 21, 34, 55, 89, 144, 233, 377, 610, 987, 1597, 2584, 4181, 6765]\n",
        "\n",
        "[fib[i-1]+ fib[i-2] for i in range(2,len(fib))]"
      ],
      "metadata": {
        "colab": {
          "base_uri": "https://localhost:8080/"
        },
        "id": "7GHtC740a_W1",
        "outputId": "2434b992-8953-4c6b-e1a9-c37930eca9e9"
      },
      "execution_count": 15,
      "outputs": [
        {
          "output_type": "execute_result",
          "data": {
            "text/plain": [
              "[1,\n",
              " 2,\n",
              " 3,\n",
              " 5,\n",
              " 8,\n",
              " 13,\n",
              " 21,\n",
              " 34,\n",
              " 55,\n",
              " 89,\n",
              " 144,\n",
              " 233,\n",
              " 377,\n",
              " 610,\n",
              " 987,\n",
              " 1597,\n",
              " 2584,\n",
              " 4181,\n",
              " 6765]"
            ]
          },
          "metadata": {},
          "execution_count": 15
        }
      ]
    },
    {
      "cell_type": "code",
      "source": [],
      "metadata": {
        "id": "V4HDyktDcsji"
      },
      "execution_count": null,
      "outputs": []
    }
  ]
}