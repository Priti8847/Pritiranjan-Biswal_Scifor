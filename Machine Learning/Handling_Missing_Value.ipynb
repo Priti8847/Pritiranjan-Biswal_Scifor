{
 "cells": [
  {
   "cell_type": "code",
   "execution_count": 26,
   "id": "ca051ed8",
   "metadata": {},
   "outputs": [],
   "source": [
    "import pandas as pd\n",
    "import numpy as np\n"
   ]
  },
  {
   "cell_type": "code",
   "execution_count": 27,
   "id": "94a3b289",
   "metadata": {},
   "outputs": [
    {
     "data": {
      "text/html": [
       "<div>\n",
       "<style scoped>\n",
       "    .dataframe tbody tr th:only-of-type {\n",
       "        vertical-align: middle;\n",
       "    }\n",
       "\n",
       "    .dataframe tbody tr th {\n",
       "        vertical-align: top;\n",
       "    }\n",
       "\n",
       "    .dataframe thead th {\n",
       "        text-align: right;\n",
       "    }\n",
       "</style>\n",
       "<table border=\"1\" class=\"dataframe\">\n",
       "  <thead>\n",
       "    <tr style=\"text-align: right;\">\n",
       "      <th></th>\n",
       "      <th>ride_id</th>\n",
       "      <th>rideable_type</th>\n",
       "      <th>started_at</th>\n",
       "      <th>ended_at</th>\n",
       "      <th>start_station_name</th>\n",
       "      <th>start_station_id</th>\n",
       "      <th>end_station_name</th>\n",
       "      <th>end_station_id</th>\n",
       "      <th>start_lat</th>\n",
       "      <th>start_lng</th>\n",
       "      <th>end_lat</th>\n",
       "      <th>end_lng</th>\n",
       "      <th>member_casual</th>\n",
       "    </tr>\n",
       "  </thead>\n",
       "  <tbody>\n",
       "    <tr>\n",
       "      <th>0</th>\n",
       "      <td>EC2DE40644C6B0F4</td>\n",
       "      <td>classic_bike</td>\n",
       "      <td>2022-05-23 23:06:58</td>\n",
       "      <td>2022-05-23 23:40:19</td>\n",
       "      <td>Wabash Ave &amp; Grand Ave</td>\n",
       "      <td>TA1307000117</td>\n",
       "      <td>Halsted St &amp; Roscoe St</td>\n",
       "      <td>TA1309000025</td>\n",
       "      <td>41.891466</td>\n",
       "      <td>-87.626761</td>\n",
       "      <td>41.943670</td>\n",
       "      <td>-87.648950</td>\n",
       "      <td>member</td>\n",
       "    </tr>\n",
       "    <tr>\n",
       "      <th>1</th>\n",
       "      <td>1C31AD03897EE385</td>\n",
       "      <td>classic_bike</td>\n",
       "      <td>2022-05-11 08:53:28</td>\n",
       "      <td>2022-05-11 09:31:22</td>\n",
       "      <td>DuSable Lake Shore Dr &amp; Monroe St</td>\n",
       "      <td>13300</td>\n",
       "      <td>Field Blvd &amp; South Water St</td>\n",
       "      <td>15534</td>\n",
       "      <td>41.880958</td>\n",
       "      <td>-87.616743</td>\n",
       "      <td>41.886349</td>\n",
       "      <td>-87.617517</td>\n",
       "      <td>member</td>\n",
       "    </tr>\n",
       "    <tr>\n",
       "      <th>2</th>\n",
       "      <td>1542FBEC830415CF</td>\n",
       "      <td>classic_bike</td>\n",
       "      <td>2022-05-26 18:36:28</td>\n",
       "      <td>2022-05-26 18:58:18</td>\n",
       "      <td>Clinton St &amp; Madison St</td>\n",
       "      <td>TA1305000032</td>\n",
       "      <td>Wood St &amp; Milwaukee Ave</td>\n",
       "      <td>13221</td>\n",
       "      <td>41.882242</td>\n",
       "      <td>-87.641066</td>\n",
       "      <td>41.907655</td>\n",
       "      <td>-87.672552</td>\n",
       "      <td>member</td>\n",
       "    </tr>\n",
       "    <tr>\n",
       "      <th>3</th>\n",
       "      <td>6FF59852924528F8</td>\n",
       "      <td>classic_bike</td>\n",
       "      <td>2022-05-10 07:30:07</td>\n",
       "      <td>2022-05-10 07:38:49</td>\n",
       "      <td>Clinton St &amp; Madison St</td>\n",
       "      <td>TA1305000032</td>\n",
       "      <td>Clark St &amp; Randolph St</td>\n",
       "      <td>TA1305000030</td>\n",
       "      <td>41.882242</td>\n",
       "      <td>-87.641066</td>\n",
       "      <td>41.884576</td>\n",
       "      <td>-87.631890</td>\n",
       "      <td>member</td>\n",
       "    </tr>\n",
       "    <tr>\n",
       "      <th>4</th>\n",
       "      <td>483C52CAAE12E3AC</td>\n",
       "      <td>classic_bike</td>\n",
       "      <td>2022-05-10 17:31:56</td>\n",
       "      <td>2022-05-10 17:36:57</td>\n",
       "      <td>Clinton St &amp; Madison St</td>\n",
       "      <td>TA1305000032</td>\n",
       "      <td>Morgan St &amp; Lake St</td>\n",
       "      <td>TA1306000015</td>\n",
       "      <td>41.882242</td>\n",
       "      <td>-87.641066</td>\n",
       "      <td>41.885779</td>\n",
       "      <td>-87.651025</td>\n",
       "      <td>member</td>\n",
       "    </tr>\n",
       "    <tr>\n",
       "      <th>...</th>\n",
       "      <td>...</td>\n",
       "      <td>...</td>\n",
       "      <td>...</td>\n",
       "      <td>...</td>\n",
       "      <td>...</td>\n",
       "      <td>...</td>\n",
       "      <td>...</td>\n",
       "      <td>...</td>\n",
       "      <td>...</td>\n",
       "      <td>...</td>\n",
       "      <td>...</td>\n",
       "      <td>...</td>\n",
       "      <td>...</td>\n",
       "    </tr>\n",
       "    <tr>\n",
       "      <th>634853</th>\n",
       "      <td>8891BA0053ECEC4F</td>\n",
       "      <td>electric_bike</td>\n",
       "      <td>2022-05-27 22:00:02</td>\n",
       "      <td>2022-05-27 22:07:01</td>\n",
       "      <td>Clark St &amp; Newport St</td>\n",
       "      <td>632</td>\n",
       "      <td>NaN</td>\n",
       "      <td>NaN</td>\n",
       "      <td>41.944557</td>\n",
       "      <td>-87.654830</td>\n",
       "      <td>41.920000</td>\n",
       "      <td>-87.650000</td>\n",
       "      <td>member</td>\n",
       "    </tr>\n",
       "    <tr>\n",
       "      <th>634854</th>\n",
       "      <td>47D8B5FBCADECFC1</td>\n",
       "      <td>electric_bike</td>\n",
       "      <td>2022-05-15 16:05:39</td>\n",
       "      <td>2022-05-15 16:44:12</td>\n",
       "      <td>Clark St &amp; Newport St</td>\n",
       "      <td>632</td>\n",
       "      <td>NaN</td>\n",
       "      <td>NaN</td>\n",
       "      <td>41.944479</td>\n",
       "      <td>-87.654758</td>\n",
       "      <td>41.920000</td>\n",
       "      <td>-87.760000</td>\n",
       "      <td>member</td>\n",
       "    </tr>\n",
       "    <tr>\n",
       "      <th>634855</th>\n",
       "      <td>AA8D16CF38B40703</td>\n",
       "      <td>electric_bike</td>\n",
       "      <td>2022-05-21 10:10:13</td>\n",
       "      <td>2022-05-21 10:26:09</td>\n",
       "      <td>Francisco Ave &amp; Bloomingdale Ave</td>\n",
       "      <td>429</td>\n",
       "      <td>NaN</td>\n",
       "      <td>NaN</td>\n",
       "      <td>41.910000</td>\n",
       "      <td>-87.700000</td>\n",
       "      <td>41.920000</td>\n",
       "      <td>-87.660000</td>\n",
       "      <td>casual</td>\n",
       "    </tr>\n",
       "    <tr>\n",
       "      <th>634856</th>\n",
       "      <td>897EBFD44F329E0A</td>\n",
       "      <td>electric_bike</td>\n",
       "      <td>2022-05-12 07:53:58</td>\n",
       "      <td>2022-05-12 08:01:18</td>\n",
       "      <td>Francisco Ave &amp; Bloomingdale Ave</td>\n",
       "      <td>429</td>\n",
       "      <td>NaN</td>\n",
       "      <td>NaN</td>\n",
       "      <td>41.910000</td>\n",
       "      <td>-87.700000</td>\n",
       "      <td>41.900000</td>\n",
       "      <td>-87.690000</td>\n",
       "      <td>member</td>\n",
       "    </tr>\n",
       "    <tr>\n",
       "      <th>634857</th>\n",
       "      <td>AAC23AB89E8A7733</td>\n",
       "      <td>electric_bike</td>\n",
       "      <td>2022-05-11 21:14:28</td>\n",
       "      <td>2022-05-11 21:18:16</td>\n",
       "      <td>Clark St &amp; Newport St</td>\n",
       "      <td>632</td>\n",
       "      <td>NaN</td>\n",
       "      <td>NaN</td>\n",
       "      <td>41.944567</td>\n",
       "      <td>-87.654802</td>\n",
       "      <td>41.940000</td>\n",
       "      <td>-87.650000</td>\n",
       "      <td>member</td>\n",
       "    </tr>\n",
       "  </tbody>\n",
       "</table>\n",
       "<p>634858 rows × 13 columns</p>\n",
       "</div>"
      ],
      "text/plain": [
       "                 ride_id  rideable_type           started_at  \\\n",
       "0       EC2DE40644C6B0F4   classic_bike  2022-05-23 23:06:58   \n",
       "1       1C31AD03897EE385   classic_bike  2022-05-11 08:53:28   \n",
       "2       1542FBEC830415CF   classic_bike  2022-05-26 18:36:28   \n",
       "3       6FF59852924528F8   classic_bike  2022-05-10 07:30:07   \n",
       "4       483C52CAAE12E3AC   classic_bike  2022-05-10 17:31:56   \n",
       "...                  ...            ...                  ...   \n",
       "634853  8891BA0053ECEC4F  electric_bike  2022-05-27 22:00:02   \n",
       "634854  47D8B5FBCADECFC1  electric_bike  2022-05-15 16:05:39   \n",
       "634855  AA8D16CF38B40703  electric_bike  2022-05-21 10:10:13   \n",
       "634856  897EBFD44F329E0A  electric_bike  2022-05-12 07:53:58   \n",
       "634857  AAC23AB89E8A7733  electric_bike  2022-05-11 21:14:28   \n",
       "\n",
       "                   ended_at                 start_station_name  \\\n",
       "0       2022-05-23 23:40:19             Wabash Ave & Grand Ave   \n",
       "1       2022-05-11 09:31:22  DuSable Lake Shore Dr & Monroe St   \n",
       "2       2022-05-26 18:58:18            Clinton St & Madison St   \n",
       "3       2022-05-10 07:38:49            Clinton St & Madison St   \n",
       "4       2022-05-10 17:36:57            Clinton St & Madison St   \n",
       "...                     ...                                ...   \n",
       "634853  2022-05-27 22:07:01              Clark St & Newport St   \n",
       "634854  2022-05-15 16:44:12              Clark St & Newport St   \n",
       "634855  2022-05-21 10:26:09   Francisco Ave & Bloomingdale Ave   \n",
       "634856  2022-05-12 08:01:18   Francisco Ave & Bloomingdale Ave   \n",
       "634857  2022-05-11 21:18:16              Clark St & Newport St   \n",
       "\n",
       "       start_station_id             end_station_name end_station_id  \\\n",
       "0          TA1307000117       Halsted St & Roscoe St   TA1309000025   \n",
       "1                 13300  Field Blvd & South Water St          15534   \n",
       "2          TA1305000032      Wood St & Milwaukee Ave          13221   \n",
       "3          TA1305000032       Clark St & Randolph St   TA1305000030   \n",
       "4          TA1305000032          Morgan St & Lake St   TA1306000015   \n",
       "...                 ...                          ...            ...   \n",
       "634853              632                          NaN            NaN   \n",
       "634854              632                          NaN            NaN   \n",
       "634855              429                          NaN            NaN   \n",
       "634856              429                          NaN            NaN   \n",
       "634857              632                          NaN            NaN   \n",
       "\n",
       "        start_lat  start_lng    end_lat    end_lng member_casual  \n",
       "0       41.891466 -87.626761  41.943670 -87.648950        member  \n",
       "1       41.880958 -87.616743  41.886349 -87.617517        member  \n",
       "2       41.882242 -87.641066  41.907655 -87.672552        member  \n",
       "3       41.882242 -87.641066  41.884576 -87.631890        member  \n",
       "4       41.882242 -87.641066  41.885779 -87.651025        member  \n",
       "...           ...        ...        ...        ...           ...  \n",
       "634853  41.944557 -87.654830  41.920000 -87.650000        member  \n",
       "634854  41.944479 -87.654758  41.920000 -87.760000        member  \n",
       "634855  41.910000 -87.700000  41.920000 -87.660000        casual  \n",
       "634856  41.910000 -87.700000  41.900000 -87.690000        member  \n",
       "634857  41.944567 -87.654802  41.940000 -87.650000        member  \n",
       "\n",
       "[634858 rows x 13 columns]"
      ]
     },
     "execution_count": 27,
     "metadata": {},
     "output_type": "execute_result"
    }
   ],
   "source": [
    "df=pd.read_csv(\"F:/text/202205-divvy-tripdata.csv\")\n",
    "df"
   ]
  },
  {
   "cell_type": "code",
   "execution_count": 28,
   "id": "b40c74a2",
   "metadata": {},
   "outputs": [
    {
     "data": {
      "text/html": [
       "<div>\n",
       "<style scoped>\n",
       "    .dataframe tbody tr th:only-of-type {\n",
       "        vertical-align: middle;\n",
       "    }\n",
       "\n",
       "    .dataframe tbody tr th {\n",
       "        vertical-align: top;\n",
       "    }\n",
       "\n",
       "    .dataframe thead th {\n",
       "        text-align: right;\n",
       "    }\n",
       "</style>\n",
       "<table border=\"1\" class=\"dataframe\">\n",
       "  <thead>\n",
       "    <tr style=\"text-align: right;\">\n",
       "      <th></th>\n",
       "      <th>ride_id</th>\n",
       "      <th>rideable_type</th>\n",
       "      <th>started_at</th>\n",
       "      <th>ended_at</th>\n",
       "      <th>start_station_name</th>\n",
       "      <th>start_station_id</th>\n",
       "      <th>end_station_name</th>\n",
       "      <th>end_station_id</th>\n",
       "      <th>start_lat</th>\n",
       "      <th>start_lng</th>\n",
       "      <th>end_lat</th>\n",
       "      <th>end_lng</th>\n",
       "      <th>member_casual</th>\n",
       "    </tr>\n",
       "  </thead>\n",
       "  <tbody>\n",
       "    <tr>\n",
       "      <th>0</th>\n",
       "      <td>EC2DE40644C6B0F4</td>\n",
       "      <td>classic_bike</td>\n",
       "      <td>2022-05-23 23:06:58</td>\n",
       "      <td>2022-05-23 23:40:19</td>\n",
       "      <td>Wabash Ave &amp; Grand Ave</td>\n",
       "      <td>TA1307000117</td>\n",
       "      <td>Halsted St &amp; Roscoe St</td>\n",
       "      <td>TA1309000025</td>\n",
       "      <td>41.891466</td>\n",
       "      <td>-87.626761</td>\n",
       "      <td>41.943670</td>\n",
       "      <td>-87.648950</td>\n",
       "      <td>member</td>\n",
       "    </tr>\n",
       "    <tr>\n",
       "      <th>1</th>\n",
       "      <td>1C31AD03897EE385</td>\n",
       "      <td>classic_bike</td>\n",
       "      <td>2022-05-11 08:53:28</td>\n",
       "      <td>2022-05-11 09:31:22</td>\n",
       "      <td>DuSable Lake Shore Dr &amp; Monroe St</td>\n",
       "      <td>13300</td>\n",
       "      <td>Field Blvd &amp; South Water St</td>\n",
       "      <td>15534</td>\n",
       "      <td>41.880958</td>\n",
       "      <td>-87.616743</td>\n",
       "      <td>41.886349</td>\n",
       "      <td>-87.617517</td>\n",
       "      <td>member</td>\n",
       "    </tr>\n",
       "    <tr>\n",
       "      <th>2</th>\n",
       "      <td>1542FBEC830415CF</td>\n",
       "      <td>classic_bike</td>\n",
       "      <td>2022-05-26 18:36:28</td>\n",
       "      <td>2022-05-26 18:58:18</td>\n",
       "      <td>Clinton St &amp; Madison St</td>\n",
       "      <td>TA1305000032</td>\n",
       "      <td>Wood St &amp; Milwaukee Ave</td>\n",
       "      <td>13221</td>\n",
       "      <td>41.882242</td>\n",
       "      <td>-87.641066</td>\n",
       "      <td>41.907655</td>\n",
       "      <td>-87.672552</td>\n",
       "      <td>member</td>\n",
       "    </tr>\n",
       "    <tr>\n",
       "      <th>3</th>\n",
       "      <td>6FF59852924528F8</td>\n",
       "      <td>classic_bike</td>\n",
       "      <td>2022-05-10 07:30:07</td>\n",
       "      <td>2022-05-10 07:38:49</td>\n",
       "      <td>Clinton St &amp; Madison St</td>\n",
       "      <td>TA1305000032</td>\n",
       "      <td>Clark St &amp; Randolph St</td>\n",
       "      <td>TA1305000030</td>\n",
       "      <td>41.882242</td>\n",
       "      <td>-87.641066</td>\n",
       "      <td>41.884576</td>\n",
       "      <td>-87.631890</td>\n",
       "      <td>member</td>\n",
       "    </tr>\n",
       "    <tr>\n",
       "      <th>4</th>\n",
       "      <td>483C52CAAE12E3AC</td>\n",
       "      <td>classic_bike</td>\n",
       "      <td>2022-05-10 17:31:56</td>\n",
       "      <td>2022-05-10 17:36:57</td>\n",
       "      <td>Clinton St &amp; Madison St</td>\n",
       "      <td>TA1305000032</td>\n",
       "      <td>Morgan St &amp; Lake St</td>\n",
       "      <td>TA1306000015</td>\n",
       "      <td>41.882242</td>\n",
       "      <td>-87.641066</td>\n",
       "      <td>41.885779</td>\n",
       "      <td>-87.651025</td>\n",
       "      <td>member</td>\n",
       "    </tr>\n",
       "  </tbody>\n",
       "</table>\n",
       "</div>"
      ],
      "text/plain": [
       "            ride_id rideable_type           started_at             ended_at  \\\n",
       "0  EC2DE40644C6B0F4  classic_bike  2022-05-23 23:06:58  2022-05-23 23:40:19   \n",
       "1  1C31AD03897EE385  classic_bike  2022-05-11 08:53:28  2022-05-11 09:31:22   \n",
       "2  1542FBEC830415CF  classic_bike  2022-05-26 18:36:28  2022-05-26 18:58:18   \n",
       "3  6FF59852924528F8  classic_bike  2022-05-10 07:30:07  2022-05-10 07:38:49   \n",
       "4  483C52CAAE12E3AC  classic_bike  2022-05-10 17:31:56  2022-05-10 17:36:57   \n",
       "\n",
       "                  start_station_name start_station_id  \\\n",
       "0             Wabash Ave & Grand Ave     TA1307000117   \n",
       "1  DuSable Lake Shore Dr & Monroe St            13300   \n",
       "2            Clinton St & Madison St     TA1305000032   \n",
       "3            Clinton St & Madison St     TA1305000032   \n",
       "4            Clinton St & Madison St     TA1305000032   \n",
       "\n",
       "              end_station_name end_station_id  start_lat  start_lng  \\\n",
       "0       Halsted St & Roscoe St   TA1309000025  41.891466 -87.626761   \n",
       "1  Field Blvd & South Water St          15534  41.880958 -87.616743   \n",
       "2      Wood St & Milwaukee Ave          13221  41.882242 -87.641066   \n",
       "3       Clark St & Randolph St   TA1305000030  41.882242 -87.641066   \n",
       "4          Morgan St & Lake St   TA1306000015  41.882242 -87.641066   \n",
       "\n",
       "     end_lat    end_lng member_casual  \n",
       "0  41.943670 -87.648950        member  \n",
       "1  41.886349 -87.617517        member  \n",
       "2  41.907655 -87.672552        member  \n",
       "3  41.884576 -87.631890        member  \n",
       "4  41.885779 -87.651025        member  "
      ]
     },
     "execution_count": 28,
     "metadata": {},
     "output_type": "execute_result"
    }
   ],
   "source": [
    "df.head()"
   ]
  },
  {
   "cell_type": "code",
   "execution_count": 29,
   "id": "c949f1be",
   "metadata": {},
   "outputs": [
    {
     "data": {
      "text/plain": [
       "(634858, 13)"
      ]
     },
     "execution_count": 29,
     "metadata": {},
     "output_type": "execute_result"
    }
   ],
   "source": [
    "df.shape"
   ]
  },
  {
   "cell_type": "code",
   "execution_count": 30,
   "id": "601dac46",
   "metadata": {},
   "outputs": [
    {
     "name": "stdout",
     "output_type": "stream",
     "text": [
      "<class 'pandas.core.frame.DataFrame'>\n",
      "RangeIndex: 634858 entries, 0 to 634857\n",
      "Data columns (total 13 columns):\n",
      " #   Column              Non-Null Count   Dtype  \n",
      "---  ------              --------------   -----  \n",
      " 0   ride_id             634858 non-null  object \n",
      " 1   rideable_type       634858 non-null  object \n",
      " 2   started_at          634858 non-null  object \n",
      " 3   ended_at            634858 non-null  object \n",
      " 4   start_station_name  548154 non-null  object \n",
      " 5   start_station_id    548154 non-null  object \n",
      " 6   end_station_name    541687 non-null  object \n",
      " 7   end_station_id      541687 non-null  object \n",
      " 8   start_lat           634858 non-null  float64\n",
      " 9   start_lng           634858 non-null  float64\n",
      " 10  end_lat             634136 non-null  float64\n",
      " 11  end_lng             634136 non-null  float64\n",
      " 12  member_casual       634858 non-null  object \n",
      "dtypes: float64(4), object(9)\n",
      "memory usage: 63.0+ MB\n"
     ]
    }
   ],
   "source": [
    "df.info()"
   ]
  },
  {
   "cell_type": "code",
   "execution_count": 31,
   "id": "ce164182",
   "metadata": {},
   "outputs": [
    {
     "data": {
      "text/html": [
       "<div>\n",
       "<style scoped>\n",
       "    .dataframe tbody tr th:only-of-type {\n",
       "        vertical-align: middle;\n",
       "    }\n",
       "\n",
       "    .dataframe tbody tr th {\n",
       "        vertical-align: top;\n",
       "    }\n",
       "\n",
       "    .dataframe thead th {\n",
       "        text-align: right;\n",
       "    }\n",
       "</style>\n",
       "<table border=\"1\" class=\"dataframe\">\n",
       "  <thead>\n",
       "    <tr style=\"text-align: right;\">\n",
       "      <th></th>\n",
       "      <th>start_lat</th>\n",
       "      <th>start_lng</th>\n",
       "      <th>end_lat</th>\n",
       "      <th>end_lng</th>\n",
       "    </tr>\n",
       "  </thead>\n",
       "  <tbody>\n",
       "    <tr>\n",
       "      <th>count</th>\n",
       "      <td>634858.000000</td>\n",
       "      <td>634858.000000</td>\n",
       "      <td>634136.000000</td>\n",
       "      <td>634136.000000</td>\n",
       "    </tr>\n",
       "    <tr>\n",
       "      <th>mean</th>\n",
       "      <td>41.901429</td>\n",
       "      <td>-87.647164</td>\n",
       "      <td>41.901791</td>\n",
       "      <td>-87.647358</td>\n",
       "    </tr>\n",
       "    <tr>\n",
       "      <th>std</th>\n",
       "      <td>0.047290</td>\n",
       "      <td>0.030701</td>\n",
       "      <td>0.047420</td>\n",
       "      <td>0.030870</td>\n",
       "    </tr>\n",
       "    <tr>\n",
       "      <th>min</th>\n",
       "      <td>41.648501</td>\n",
       "      <td>-87.840000</td>\n",
       "      <td>41.640000</td>\n",
       "      <td>-88.140000</td>\n",
       "    </tr>\n",
       "    <tr>\n",
       "      <th>25%</th>\n",
       "      <td>41.881032</td>\n",
       "      <td>-87.661501</td>\n",
       "      <td>41.881032</td>\n",
       "      <td>-87.661535</td>\n",
       "    </tr>\n",
       "    <tr>\n",
       "      <th>50%</th>\n",
       "      <td>41.900000</td>\n",
       "      <td>-87.643241</td>\n",
       "      <td>41.900680</td>\n",
       "      <td>-87.643353</td>\n",
       "    </tr>\n",
       "    <tr>\n",
       "      <th>75%</th>\n",
       "      <td>41.930000</td>\n",
       "      <td>-87.627705</td>\n",
       "      <td>41.930000</td>\n",
       "      <td>-87.627716</td>\n",
       "    </tr>\n",
       "    <tr>\n",
       "      <th>max</th>\n",
       "      <td>42.070000</td>\n",
       "      <td>-87.520000</td>\n",
       "      <td>42.110000</td>\n",
       "      <td>-87.520000</td>\n",
       "    </tr>\n",
       "  </tbody>\n",
       "</table>\n",
       "</div>"
      ],
      "text/plain": [
       "           start_lat      start_lng        end_lat        end_lng\n",
       "count  634858.000000  634858.000000  634136.000000  634136.000000\n",
       "mean       41.901429     -87.647164      41.901791     -87.647358\n",
       "std         0.047290       0.030701       0.047420       0.030870\n",
       "min        41.648501     -87.840000      41.640000     -88.140000\n",
       "25%        41.881032     -87.661501      41.881032     -87.661535\n",
       "50%        41.900000     -87.643241      41.900680     -87.643353\n",
       "75%        41.930000     -87.627705      41.930000     -87.627716\n",
       "max        42.070000     -87.520000      42.110000     -87.520000"
      ]
     },
     "execution_count": 31,
     "metadata": {},
     "output_type": "execute_result"
    }
   ],
   "source": [
    "df.describe()"
   ]
  },
  {
   "cell_type": "code",
   "execution_count": 32,
   "id": "a9cfe84e",
   "metadata": {},
   "outputs": [
    {
     "data": {
      "text/plain": [
       "ride_id                object\n",
       "rideable_type          object\n",
       "started_at             object\n",
       "ended_at               object\n",
       "start_station_name     object\n",
       "start_station_id       object\n",
       "end_station_name       object\n",
       "end_station_id         object\n",
       "start_lat             float64\n",
       "start_lng             float64\n",
       "end_lat               float64\n",
       "end_lng               float64\n",
       "member_casual          object\n",
       "dtype: object"
      ]
     },
     "execution_count": 32,
     "metadata": {},
     "output_type": "execute_result"
    }
   ],
   "source": [
    "df.dtypes"
   ]
  },
  {
   "cell_type": "code",
   "execution_count": 33,
   "id": "c740ebf5",
   "metadata": {},
   "outputs": [
    {
     "data": {
      "text/plain": [
       "ride_id                   0\n",
       "rideable_type             0\n",
       "started_at                0\n",
       "ended_at                  0\n",
       "start_station_name    86704\n",
       "start_station_id      86704\n",
       "end_station_name      93171\n",
       "end_station_id        93171\n",
       "start_lat                 0\n",
       "start_lng                 0\n",
       "end_lat                 722\n",
       "end_lng                 722\n",
       "member_casual             0\n",
       "dtype: int64"
      ]
     },
     "execution_count": 33,
     "metadata": {},
     "output_type": "execute_result"
    }
   ],
   "source": [
    "df.isnull().sum()"
   ]
  },
  {
   "cell_type": "code",
   "execution_count": 34,
   "id": "5201ad37",
   "metadata": {},
   "outputs": [
    {
     "data": {
      "text/plain": [
       "361194"
      ]
     },
     "execution_count": 34,
     "metadata": {},
     "output_type": "execute_result"
    }
   ],
   "source": [
    "df.isna().sum().sum()"
   ]
  },
  {
   "cell_type": "code",
   "execution_count": 35,
   "id": "04221e6f",
   "metadata": {},
   "outputs": [],
   "source": [
    "#Numerical columns having missing value\n",
    "m1 = df[df['end_lat'].isnull() | df['end_lng'].isnull()]"
   ]
  },
  {
   "cell_type": "code",
   "execution_count": 36,
   "id": "88cab8da",
   "metadata": {},
   "outputs": [],
   "source": [
    "df_cleaned = df.dropna(subset=['end_lat', 'end_lng'],inplace=True)"
   ]
  },
  {
   "cell_type": "code",
   "execution_count": 37,
   "id": "7bf5a1aa",
   "metadata": {},
   "outputs": [
    {
     "data": {
      "text/plain": [
       "ride_id                   0\n",
       "rideable_type             0\n",
       "started_at                0\n",
       "ended_at                  0\n",
       "start_station_name    86704\n",
       "start_station_id      86704\n",
       "end_station_name      92449\n",
       "end_station_id        92449\n",
       "start_lat                 0\n",
       "start_lng                 0\n",
       "end_lat                   0\n",
       "end_lng                   0\n",
       "member_casual             0\n",
       "dtype: int64"
      ]
     },
     "execution_count": 37,
     "metadata": {},
     "output_type": "execute_result"
    }
   ],
   "source": [
    "df.isna().sum()"
   ]
  },
  {
   "cell_type": "code",
   "execution_count": 38,
   "id": "023021a6",
   "metadata": {},
   "outputs": [
    {
     "data": {
      "text/plain": [
       "array(['classic_bike', 'docked_bike', 'electric_bike'], dtype=object)"
      ]
     },
     "execution_count": 38,
     "metadata": {},
     "output_type": "execute_result"
    }
   ],
   "source": [
    "df['rideable_type'].unique()"
   ]
  },
  {
   "cell_type": "code",
   "execution_count": 39,
   "id": "9b5afc95",
   "metadata": {},
   "outputs": [
    {
     "data": {
      "text/plain": [
       "rideable_type\n",
       "classic_bike     323613\n",
       "electric_bike    284403\n",
       "docked_bike       26120\n",
       "Name: count, dtype: int64"
      ]
     },
     "execution_count": 39,
     "metadata": {},
     "output_type": "execute_result"
    }
   ],
   "source": [
    "df['rideable_type'].value_counts()"
   ]
  },
  {
   "cell_type": "code",
   "execution_count": 40,
   "id": "f494a0fc",
   "metadata": {},
   "outputs": [
    {
     "data": {
      "text/plain": [
       "<Axes: >"
      ]
     },
     "execution_count": 40,
     "metadata": {},
     "output_type": "execute_result"
    },
    {
     "data": {
      "image/png": "[encoded data removed]",
      "text/plain": [
       "<Figure size 640x480 with 2 Axes>"
      ]
     },
     "metadata": {},
     "output_type": "display_data"
    }
   ],
   "source": [
    "import seaborn as sns\n",
    "sns.heatmap(df.isnull())"
   ]
  }
 ],
 "metadata": {
  "kernelspec": {
   "display_name": "Python 3 (ipykernel)",
   "language": "python",
   "name": "python3"
  },
  "language_info": {
   "codemirror_mode": {
    "name": "ipython",
    "version": 3
   },
   "file_extension": ".py",
   "mimetype": "text/x-python",
   "name": "python",
   "nbconvert_exporter": "python",
   "pygments_lexer": "ipython3",
   "version": "3.9.18"
  }
 },
 "nbformat": 4,
 "nbformat_minor": 5
}
