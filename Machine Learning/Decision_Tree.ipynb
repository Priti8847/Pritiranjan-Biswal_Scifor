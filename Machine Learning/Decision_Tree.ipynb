{
 "cells": [
  {
   "cell_type": "raw",
   "id": "f72a59bb",
   "metadata": {},
   "source": [
    "#Q1. Describe the decision tree classifier algorithm and how it works to make predictions.\n",
    "\n",
    "Decision tree classifier is a  machine learning algorithm used for classification tasks. It works by recursively partitioning the feature space into smaller regions based on the values of input features. At each step, the algorithm selects the feature that best splits the data into distinct classes such as into yes and No, aiming to minimize  gini impurity or maximize information gain. This process continues until the algorithm gets sufficient homogeneous data. To make predictions, the decision tree traverses the tree from the root node to a leaf node based on the values of input features, and assigns the majority class in that leaf node to the input instance."
   ]
  },
  {
   "attachments": {},
   "cell_type": "raw",
   "id": "68dd569c",
   "metadata": {},
   "source": [
    " Q2. Provide a step-by-step explanation of the mathematical intuition behind decision tree classification.\n",
    "\n",
    "-Decision trees divide data based on features to maximize purity .\n",
    "-do this by measuring \"impurity\" using entropy (classification).\n",
    "-Each split aims for the biggest drop in impurity, using measures like \"information gain\".\n",
    "-This repeats till reaching pure leaves with predicted classes.\n",
    "-New data follows the tree based on its features to reach a leaf and inherit its class."
   ]
  },
  {
   "cell_type": "raw",
   "id": "49fa711e",
   "metadata": {},
   "source": [
    "Q3. Explain how a decision tree classifier can be used to solve a binary classification problem.\n",
    "\n",
    "Here i have attached one example to expalin th\n",
    "Start at the root: The tree begins with all your data points at the \"root node.\"\n",
    "Ask a question: The tree chooses a single feature and asks a question about its value (e.g., \"Is income greater than 50,000?).\n",
    "Follow the branches: Based on the answer, data points follow two branches like in a story. Those with \"yes\" go one way, \"no\" go another.\n",
    "Repeat: At each new node, the tree asks another question about a different feature, splitting the data further based on the answers.\n",
    "Reach the leaves: Eventually, you reach \"leaf nodes\" containing only data points of the same class (e.g., \"approved loan\" or \"denied loan\").\n",
    "Classify new data: To classify a new data point, you simply follow the same questions down the tree, ending up at a leaf and inheriting its class prediction."
   ]
  },
  {
   "cell_type": "raw",
   "id": "915868b6",
   "metadata": {},
   "source": [
    "Q5.Define the confusion matrix and describe how it can be used to evaluate the performance of a classification model.\n",
    "\n",
    "A confusion matrix is a tabular representation of the actual versus predicted classes in a classification problem. It consists of  true positives (TP), false positives (FP), true negatives (TN), and false negatives (FN). It provides insights into the performance of a classifier by summarizing how well it has classified instances from each class."
   ]
  },
  {
   "cell_type": "markdown",
   "id": "19400d3b",
   "metadata": {},
   "source": [
    "Q6. Provide an example of a confusion matrix and explain how precision, recall, and F1 score can be calculated from it."
   ]
  },
  {
   "cell_type": "code",
   "execution_count": 3,
   "id": "2e800b47",
   "metadata": {},
   "outputs": [
    {
     "name": "stdout",
     "output_type": "stream",
     "text": [
      "Precision is : 0.85\n",
      "Recall is : 0.8947368421052632\n",
      "F1 Score is : 0.8717948717948718\n"
     ]
    }
   ],
   "source": [
    "TP=85\n",
    "FP=15\n",
    "FN=10\n",
    "TN=90\n",
    "Precision = TP / (TP + FP)\n",
    "Recall = TP / (TP + FN) \n",
    "F1_Score = 2 * (Precision * Recall) / (Precision + Recall)\n",
    "print(\"Precision is :\",Precision)\n",
    "print(\"Recall is :\",Recall)\n",
    "print(\"F1 Score is :\",F1_Score)"
   ]
  },
  {
   "cell_type": "raw",
   "id": "4ad21691",
   "metadata": {},
   "source": [
    "Q7.Discuss the importance of choosing an appropriate evaluation metric for a classification problem and explain how this can be done.\n",
    "\n",
    "Choosing an appropriate evaluation metric is crucial as it reflects the performance of the classifier and guides model selection. The choice depends on the specific requirements of the problem. For instance, precision is important when the False positive penalty is high, while recall is critical when the false negatives penalty is high. F1 score provides a balance between precision and recall. Other metrics such as accuracy, ROC-AUC, and specificity may also be relevant."
   ]
  },
  {
   "cell_type": "raw",
   "id": "2e1c55ed",
   "metadata": {},
   "source": [
    "Q8. Provide an example of a classification problem where precision is the most important metric, and explain why.\n",
    "\n",
    "An example where precision is crucial is in email spam detection. In this scenario, false positives (classifying a non-spam email as spam) can be highly disruptive as they may lead to important emails being missed or filtered out. Therefore, maximizing precision ensures that the majority of emails classified as spam are indeed spam.\n"
   ]
  },
  {
   "cell_type": "raw",
   "id": "38947930",
   "metadata": {},
   "source": [
    "Q9. Provide an example of a classification problem where recall is the most important metric, and explain why.\n",
    "\n",
    "In medical diagnosis, particularly for detecting life-threatening diseases like cancer, recall is often the most important metric. Missing a positive case (false negative) can have severe problem, potentially leading to delayed treatment and poorer outcomes. In such cases, maximizing recall ensures that as many positive cases as possible are correctly identified, even if it means accepting a higher rate of false positives."
   ]
  },
  {
   "cell_type": "code",
   "execution_count": null,
   "id": "2043cebb",
   "metadata": {},
   "outputs": [],
   "source": []
  }
 ],
 "metadata": {
  "kernelspec": {
   "display_name": "Python 3 (ipykernel)",
   "language": "python",
   "name": "python3"
  },
  "language_info": {
   "codemirror_mode": {
    "name": "ipython",
    "version": 3
   },
   "file_extension": ".py",
   "mimetype": "text/x-python",
   "name": "python",
   "nbconvert_exporter": "python",
   "pygments_lexer": "ipython3",
   "version": "3.9.18"
  }
 },
 "nbformat": 4,
 "nbformat_minor": 5
}
