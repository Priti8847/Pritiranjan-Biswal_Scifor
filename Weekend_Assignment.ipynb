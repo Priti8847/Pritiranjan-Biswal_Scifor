{
  "nbformat": 4,
  "nbformat_minor": 0,
  "metadata": {
    "colab": {
      "provenance": []
    },
    "kernelspec": {
      "name": "python3",
      "display_name": "Python 3"
    },
    "language_info": {
      "name": "python"
    }
  },
  "cells": [
    {
      "cell_type": "code",
      "execution_count": null,
      "metadata": {
        "id": "oG55sEZpQvzm",
        "colab": {
          "base_uri": "https://localhost:8080/"
        },
        "outputId": "2b643491-afca-4816-e7ec-6c13aef60bc2"
      },
      "outputs": [
        {
          "output_type": "execute_result",
          "data": {
            "text/plain": [
              "[('Virat Kohli', 24936),\n",
              " ('Jack Kallis', 25534),\n",
              " ('Ricky Ponting', 27483),\n",
              " ('Sachin Tendulkar', 34357)]"
            ]
          },
          "metadata": {},
          "execution_count": 1
        }
      ],
      "source": [
        "##Q1 Sort the given list based on number using lamda function\n",
        "list=[('Sachin Tendulkar', 34357), ('Ricky Ponting', 27483), ('Jack Kallis', 25534), ('Virat Kohli',24936)]\n",
        "sort_data=sorted(list,key=lambda x:x[1])\n",
        "sort_data"
      ]
    },
    {
      "cell_type": "code",
      "source": [
        "#Q2 find the square of the given number using map and lambda function\n",
        "numbers = [1, 2, 3, 4, 5, 6, 7, 8, 9, 10]\n",
        "squares = tuple(map(lambda x: x**2, numbers))\n",
        "squares\n"
      ],
      "metadata": {
        "colab": {
          "base_uri": "https://localhost:8080/"
        },
        "id": "OcCxBrMY9RlG",
        "outputId": "fa3347c2-7120-4f6b-a281-a9cd9e1946cb"
      },
      "execution_count": null,
      "outputs": [
        {
          "output_type": "execute_result",
          "data": {
            "text/plain": [
              "(1, 4, 9, 16, 25, 36, 49, 64, 81, 100)"
            ]
          },
          "metadata": {},
          "execution_count": 3
        }
      ]
    },
    {
      "cell_type": "code",
      "source": [
        "#Q3 convert the list into tuple of string using map and lambda function\n",
        "numbers = [1, 2, 3, 4, 5, 6, 7, 8, 9, 10]\n",
        "string_tuple = tuple(map(lambda x: str(x), numbers))\n",
        "print(string_tuple)\n"
      ],
      "metadata": {
        "colab": {
          "base_uri": "https://localhost:8080/"
        },
        "id": "ZAQ1kdB8-5eS",
        "outputId": "9e5fd6da-71c1-4796-f00e-5a774996f401"
      },
      "execution_count": null,
      "outputs": [
        {
          "output_type": "stream",
          "name": "stdout",
          "text": [
            "('1', '2', '3', '4', '5', '6', '7', '8', '9', '10')\n"
          ]
        }
      ]
    },
    {
      "cell_type": "code",
      "source": [
        "#Q4 find product from 1 to 25 using reduce function\n",
        "from functools import reduce\n",
        "numbers = tuple(range(1, 26))\n",
        "product = reduce(lambda x, y: x * y, numbers)\n",
        "print(\"The product of numbers from 1 to 25 is:\", product)\n"
      ],
      "metadata": {
        "colab": {
          "base_uri": "https://localhost:8080/"
        },
        "id": "sUQxdyccAJU7",
        "outputId": "f43aa64b-27a1-44e4-fe0f-c94836169f05"
      },
      "execution_count": null,
      "outputs": [
        {
          "output_type": "stream",
          "name": "stdout",
          "text": [
            "The product of numbers from 1 to 25 is: 15511210043330985984000000\n"
          ]
        }
      ]
    },
    {
      "cell_type": "code",
      "source": [
        "#Q5 filter the number in a given lsit who are divisible by 2 and 3\n",
        "data=[2, 3, 6, 9, 27, 60, 90, 120, 55, 46]\n",
        "filtered_data=tuple(filter(lambda x:x%2==0 and x%3==0,data))\n",
        "filtered_data"
      ],
      "metadata": {
        "id": "7EMHhvIpEMsH",
        "colab": {
          "base_uri": "https://localhost:8080/"
        },
        "outputId": "ee0df893-e28f-4c06-d485-51f8830a2ba2"
      },
      "execution_count": null,
      "outputs": [
        {
          "output_type": "execute_result",
          "data": {
            "text/plain": [
              "(6, 60, 90, 120)"
            ]
          },
          "metadata": {},
          "execution_count": 8
        }
      ]
    },
    {
      "cell_type": "code",
      "source": [
        "#Q6 find palindrome of a given list using lambda fucntion\n",
        "\n",
        "data=['python', 'php', 'aba', 'radar', 'level']\n",
        "palindrome=tuple(filter(lambda x:x==x[::-1],data))\n",
        "palindrome"
      ],
      "metadata": {
        "colab": {
          "base_uri": "https://localhost:8080/"
        },
        "id": "laGbfvk7I44S",
        "outputId": "80415a3b-d5a5-42e3-fa87-79a4068c2bd8"
      },
      "execution_count": null,
      "outputs": [
        {
          "output_type": "execute_result",
          "data": {
            "text/plain": [
              "('php', 'aba', 'radar', 'level')"
            ]
          },
          "metadata": {},
          "execution_count": 9
        }
      ]
    },
    {
      "cell_type": "code",
      "source": [],
      "metadata": {
        "id": "QBRaVTUGb9pS"
      },
      "execution_count": null,
      "outputs": []
    }
  ]
}