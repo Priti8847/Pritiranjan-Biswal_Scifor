{
  "nbformat": 4,
  "nbformat_minor": 0,
  "metadata": {
    "colab": {
      "provenance": []
    },
    "kernelspec": {
      "name": "python3",
      "display_name": "Python 3"
    },
    "language_info": {
      "name": "python"
    }
  },
  "cells": [
    {
      "cell_type": "code",
      "execution_count": null,
      "metadata": {
        "colab": {
          "base_uri": "https://localhost:8080/"
        },
        "id": "RmCl4NcD6acQ",
        "outputId": "8796f0b6-c8d2-4569-db86-085c54c637cd"
      },
      "outputs": [
        {
          "output_type": "execute_result",
          "data": {
            "text/plain": [
              "(1, 2, 3, 4, 5, 8, 9, 10, 11)"
            ]
          },
          "metadata": {},
          "execution_count": 2
        }
      ],
      "source": [
        "tup=(1,2,3,4,5)\n",
        "tup2=(8,9,10,11)\n",
        "res=tup+tup2\n",
        "res"
      ]
    },
    {
      "cell_type": "code",
      "source": [
        "list=[2,3,5,9,8,7]\n",
        "list"
      ],
      "metadata": {
        "colab": {
          "base_uri": "https://localhost:8080/"
        },
        "id": "XpE_wyxq6lNH",
        "outputId": "14fab157-cfc2-49ff-8ed5-f6c881a5f840"
      },
      "execution_count": null,
      "outputs": [
        {
          "output_type": "execute_result",
          "data": {
            "text/plain": [
              "[2, 3, 5, 9, 8, 7]"
            ]
          },
          "metadata": {},
          "execution_count": 4
        }
      ]
    },
    {
      "cell_type": "code",
      "source": [
        "dict={\"car\":\"fortuner\",\"comany name\":\"toyota\",\"year\":1998}\n",
        "dict"
      ],
      "metadata": {
        "colab": {
          "base_uri": "https://localhost:8080/"
        },
        "id": "_bAZhYcp8IYu",
        "outputId": "0554b49b-42e1-474f-da50-7e7f7767e004"
      },
      "execution_count": null,
      "outputs": [
        {
          "output_type": "execute_result",
          "data": {
            "text/plain": [
              "{'car': 'fortuner', 'comany name': 'toyota', 'year': 1998}"
            ]
          },
          "metadata": {},
          "execution_count": 5
        }
      ]
    },
    {
      "cell_type": "code",
      "source": [
        "#string\n",
        "str=input(\"enter your text\")\n",
        "str"
      ],
      "metadata": {
        "colab": {
          "base_uri": "https://localhost:8080/",
          "height": 53
        },
        "id": "19XbBz8-8rRq",
        "outputId": "2dba6fd7-c22e-4bfa-aa03-e81d3283cd77"
      },
      "execution_count": null,
      "outputs": [
        {
          "name": "stdout",
          "output_type": "stream",
          "text": [
            "enter your texthello world\n"
          ]
        },
        {
          "output_type": "execute_result",
          "data": {
            "text/plain": [
              "'hello world'"
            ],
            "application/vnd.google.colaboratory.intrinsic+json": {
              "type": "string"
            }
          },
          "metadata": {},
          "execution_count": 6
        }
      ]
    },
    {
      "cell_type": "code",
      "source": [
        "##dictionary\n",
        "months={1:\"january\",\n",
        "        2:\"February\",\n",
        "        3:\"March\",\n",
        "        4:\"April\"}\n",
        "print(\"The dictionary\",months)\n"
      ],
      "metadata": {
        "colab": {
          "base_uri": "https://localhost:8080/"
        },
        "id": "m4XJ8dzE9P7B",
        "outputId": "cc20ecbe-42bd-4a4c-90be-8afd195ddfd8"
      },
      "execution_count": null,
      "outputs": [
        {
          "output_type": "stream",
          "name": "stdout",
          "text": [
            "The dictionary {1: 'january', 2: 'February', 3: 'March', 4: 'April'}\n"
          ]
        }
      ]
    },
    {
      "cell_type": "code",
      "source": [
        "vowels =('a','e','i')\n",
        "fset=frozenset(vowels)\n",
        "fset"
      ],
      "metadata": {
        "colab": {
          "base_uri": "https://localhost:8080/"
        },
        "id": "mngZ3xFj9ldg",
        "outputId": "edbaf4d7-4d3f-41f8-c578-b612b060ed07"
      },
      "execution_count": null,
      "outputs": [
        {
          "output_type": "execute_result",
          "data": {
            "text/plain": [
              "frozenset({'a', 'e', 'i'})"
            ]
          },
          "metadata": {},
          "execution_count": 13
        }
      ]
    },
    {
      "cell_type": "code",
      "source": [],
      "metadata": {
        "id": "LbmFaWhw-4aq"
      },
      "execution_count": null,
      "outputs": []
    }
  ]
}